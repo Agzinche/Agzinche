{
 "cells": [
  {
   "cell_type": "markdown",
   "metadata": {
    "collapsed": false
   },
   "source": [
    "Попытка Работать напрямую с файлом\n",
    "1 Удаляем первые два столбца\n",
    "2 Переименовываем Пролет в Prolet\n",
    "3 Требуется создать две плащадки'PL_A' и 'PL_B'. просто делим по \"-\""
   ]
  },
  {
   "cell_type": "code",
   "execution_count": 28,
   "metadata": {
    "collapsed": false
   },
   "outputs": [
    {
     "data": {
      "text/html": [
       "<div>\n",
       "<table border=\"1\" class=\"dataframe\">\n",
       "  <thead>\n",
       "    <tr style=\"text-align: right;\">\n",
       "      <th></th>\n",
       "      <th>IP Address</th>\n",
       "      <th>IP Address.1</th>\n",
       "      <th>login:</th>\n",
       "      <th>pass:</th>\n",
       "      <th>Type</th>\n",
       "    </tr>\n",
       "    <tr>\n",
       "      <th>Prolet</th>\n",
       "      <th></th>\n",
       "      <th></th>\n",
       "      <th></th>\n",
       "      <th></th>\n",
       "      <th></th>\n",
       "    </tr>\n",
       "  </thead>\n",
       "  <tbody>\n",
       "    <tr>\n",
       "      <th>02996 - 06028</th>\n",
       "      <td>10.1.108.169</td>\n",
       "      <td>10.1.108.170</td>\n",
       "      <td>Admin</td>\n",
       "      <td>12345678</td>\n",
       "      <td>iPasolink</td>\n",
       "    </tr>\n",
       "    <tr>\n",
       "      <th>02996 - 03979</th>\n",
       "      <td>10.1.108.169</td>\n",
       "      <td>10.1.108.181</td>\n",
       "      <td>Admin</td>\n",
       "      <td>12345678</td>\n",
       "      <td>iPasolink</td>\n",
       "    </tr>\n",
       "  </tbody>\n",
       "</table>\n",
       "</div>"
      ],
      "text/plain": [
       "                 IP Address  IP Address.1 login:     pass:        Type\n",
       "Prolet                                                                \n",
       "02996 - 06028  10.1.108.169  10.1.108.170   Admin  12345678  iPasolink\n",
       "02996 - 03979  10.1.108.169  10.1.108.181   Admin  12345678  iPasolink"
      ]
     },
     "execution_count": 28,
     "metadata": {},
     "output_type": "execute_result"
    }
   ],
   "source": [
    "import pandas as pd\n",
    "import numpy as np\n",
    "from pandas import read_csv, DataFrame, Series\n",
    "import re\n",
    "# Set some Pandas options\n",
    "#pd.set_option('display.notebook_repr_html', False)\n",
    "pd.set_option('display.max_columns', 25)\n",
    "pd.set_option('display.max_rows', 150)\n",
    "t='05639 - 5667'\n",
    "t1='10.1.66.17'\n",
    "t3=2996\n",
    "type1= 'OmniBAS'\n",
    "df = pd.read_excel('D:/USERS/agzinche/Python_work/Requests_Rout/Intralink+iPasolink_end.xlsx', sheetname=('new'), index_col=u'Prolet') \n",
    "#sheetname=('new')-какой лист в excel читать\n",
    "df.keys()#Посмотерть название столбцов\n",
    "#df.loc[[t]][[u'IP Address', u'IP Address.1', u'login: ', u'pass: ',u'Type']]#Поиск по пролету\n",
    "#prdf.columns прочитать заголовки столбцов\n",
    "#df[df[u'IP Address']==t1][[u'IP Address', u'IP Address.1', u'login: ', u'pass: ',u'Type']]#Поиск по IP\n",
    "#df[(df[u'IP Address']==t1)|(df[u'IP Address.1']==t1)][[u'IP Address', u'IP Address.1', u'login: ', u'pass: ',u'Type']]#Поиск по IP по двум столбцам\n",
    "#df[(df[#df[(df[u'IP Address']==t1)|(df[u'IP Address.1']==t1)][[u'IP Address', u'IP Address.1', u'login: ', u'pass: ',u'Type']]#Поиск по IP по двум столбцам\n",
    "df[(df[u'PL_A']==t3)|(df[u'PL_B']==t3)][[u'IP Address', u'IP Address.1', u'login: ', u'pass: ',u'Type']]#Поиск по Площадкам по двум столбцам\n",
    "#df[df[u'Type']==type1][[u'IP Address', u'IP Address.1', u'login: ', u'pass: ',u'Type']]#Поиск по типу оборудования\n",
    "\n"
   ]
  },
  {
   "cell_type": "code",
   "execution_count": null,
   "metadata": {
    "collapsed": true
   },
   "outputs": [],
   "source": []
  },
  {
   "cell_type": "code",
   "execution_count": null,
   "metadata": {
    "collapsed": true
   },
   "outputs": [],
   "source": []
  }
 ],
 "metadata": {
  "kernelspec": {
   "display_name": "Python 2",
   "language": "python",
   "name": "python2"
  },
  "language_info": {
   "codemirror_mode": {
    "name": "ipython",
    "version": 2
   },
   "file_extension": ".py",
   "mimetype": "text/x-python",
   "name": "python",
   "nbconvert_exporter": "python",
   "pygments_lexer": "ipython2",
   "version": "2.7.13"
  }
 },
 "nbformat": 4,
 "nbformat_minor": 2
}
