{
 "cells": [
  {
   "cell_type": "code",
   "execution_count": 1,
   "metadata": {
    "collapsed": false
   },
   "outputs": [
    {
     "name": "stdout",
     "output_type": "stream",
     "text": [
      "Index([u'Prolet', u'IP Address', u'IP Address.1'], dtype='object')\n"
     ]
    },
    {
     "data": {
      "text/html": [
       "<div>\n",
       "<table border=\"1\" class=\"dataframe\">\n",
       "  <thead>\n",
       "    <tr style=\"text-align: right;\">\n",
       "      <th></th>\n",
       "      <th>Prolet</th>\n",
       "      <th>IP Address</th>\n",
       "      <th>IP Address.1</th>\n",
       "    </tr>\n",
       "  </thead>\n",
       "  <tbody>\n",
       "    <tr>\n",
       "      <th>0</th>\n",
       "      <td>00712 - 02747</td>\n",
       "      <td>10.1.66.4</td>\n",
       "      <td>10.1.66.5</td>\n",
       "    </tr>\n",
       "    <tr>\n",
       "      <th>1</th>\n",
       "      <td>00712 - 00917</td>\n",
       "      <td>NaN</td>\n",
       "      <td>10.1.66.6</td>\n",
       "    </tr>\n",
       "    <tr>\n",
       "      <th>2</th>\n",
       "      <td>00917 - 04709</td>\n",
       "      <td>10.1.66.6</td>\n",
       "      <td>10.1.66.7</td>\n",
       "    </tr>\n",
       "    <tr>\n",
       "      <th>3</th>\n",
       "      <td>04709 - 10823</td>\n",
       "      <td>10.1.66.7</td>\n",
       "      <td>10.1.66.8</td>\n",
       "    </tr>\n",
       "    <tr>\n",
       "      <th>4</th>\n",
       "      <td>00712 - 00752</td>\n",
       "      <td>10.1.66.4</td>\n",
       "      <td>10.1.66.9</td>\n",
       "    </tr>\n",
       "    <tr>\n",
       "      <th>...</th>\n",
       "      <td>...</td>\n",
       "      <td>...</td>\n",
       "      <td>...</td>\n",
       "    </tr>\n",
       "    <tr>\n",
       "      <th>4263</th>\n",
       "      <td>free</td>\n",
       "      <td>10.1.127.244</td>\n",
       "      <td>10.1.127.245</td>\n",
       "    </tr>\n",
       "    <tr>\n",
       "      <th>4264</th>\n",
       "      <td>free</td>\n",
       "      <td>10.1.127.246</td>\n",
       "      <td>10.1.127.247</td>\n",
       "    </tr>\n",
       "    <tr>\n",
       "      <th>4265</th>\n",
       "      <td>free</td>\n",
       "      <td>10.1.127.248</td>\n",
       "      <td>10.1.127.249</td>\n",
       "    </tr>\n",
       "    <tr>\n",
       "      <th>4266</th>\n",
       "      <td>free</td>\n",
       "      <td>10.1.127.250</td>\n",
       "      <td>10.1.127.251</td>\n",
       "    </tr>\n",
       "    <tr>\n",
       "      <th>4267</th>\n",
       "      <td>free</td>\n",
       "      <td>10.1.127.252</td>\n",
       "      <td>10.1.127.253</td>\n",
       "    </tr>\n",
       "  </tbody>\n",
       "</table>\n",
       "<p>4268 rows × 3 columns</p>\n",
       "</div>"
      ],
      "text/plain": [
       "             Prolet    IP Address  IP Address.1\n",
       "0     00712 - 02747     10.1.66.4     10.1.66.5\n",
       "1     00712 - 00917           NaN     10.1.66.6\n",
       "2     00917 - 04709     10.1.66.6     10.1.66.7\n",
       "3     04709 - 10823     10.1.66.7     10.1.66.8\n",
       "4     00712 - 00752     10.1.66.4     10.1.66.9\n",
       "...             ...           ...           ...\n",
       "4263           free  10.1.127.244  10.1.127.245\n",
       "4264           free  10.1.127.246  10.1.127.247\n",
       "4265           free  10.1.127.248  10.1.127.249\n",
       "4266           free  10.1.127.250  10.1.127.251\n",
       "4267           free  10.1.127.252  10.1.127.253\n",
       "\n",
       "[4268 rows x 3 columns]"
      ]
     },
     "execution_count": 1,
     "metadata": {},
     "output_type": "execute_result"
    }
   ],
   "source": [
    "import pandas as pd\n",
    "import numpy as np\n",
    "from pandas import read_csv, DataFrame, Series\n",
    "import re\n",
    "# Set some Pandas options\n",
    "#pd.set_option('display.notebook_repr_html', False)\n",
    "pd.set_option('display.max_columns', 25)\n",
    "pd.set_option('display.max_rows', 10)\n",
    "df = pd.read_csv('../to ip/IP.csv',sep=',')\n",
    "#df = pd.read_csv('../RRL/IP.csv',sep=';', index_col=u'serverTrail')\n",
    "print df.columns\n",
    "df\n",
    "#test=df[[u'usageIndicator',u'resType',u'belongTrail',u'pathPtr']]\n",
    "#test \n",
    "##поиск в бивать в loc\n",
    "#dd=test.loc[['ntwDomId=1/ntwId=1/sbnId=2/etId=3/trailId=154978','ntwDomId=1/ntwId=1/sbnId=2/etId=3/trailId=154972','ntwDomId=1/ntwId=1/sbnId=2/etId=3/trailId=155253','ntwDomId=1/ntwId=1/sbnId=2/etId=3/trailId=155265','ntwDomId=1/ntwId=1/sbnId=2/etId=3/trailId=1371780','ntwDomId=1/ntwId=1/sbnId=2/etId=3/trailId=2025568','ntwDomId=1/ntwId=1/sbnId=2/etId=3/trailId=1997804','ntwDomId=1/ntwId=1/sbnId=2/etId=3/trailId=1533524','ntwDomId=1/ntwId=1/sbnId=2/etId=3/trailId=1372032','ntwDomId=1/ntwId=1/sbnId=2/etId=3/trailId=2036853','ntwDomId=1/ntwId=1/sbnId=2/etId=3/trailId=1533520','ntwDomId=1/ntwId=1/sbnId=2/etId=3/trailId=1533532','ntwDomId=1/ntwId=1/sbnId=2/etId=3/trailId=1975420','ntwDomId=1/ntwId=1/sbnId=2/etId=3/trailId=1975598','ntwDomId=1/ntwId=1/sbnId=2/etId=3/trailId=2002099','ntwDomId=1/ntwId=1/sbnId=2/etId=3/trailId=2002103']]\n",
    "#dd\n",
    "#dd.to_csv('train_head.txt')#создать таблицу\n",
    "#print (u'выполнил')"
   ]
  },
  {
   "cell_type": "markdown",
   "metadata": {
    "collapsed": false
   },
   "source": [
    "Попытка Работать напрямую с файлом\n",
    "1 Удаляем первые два столбца\n",
    "2 Переименовываем Пролет в Prolet"
   ]
  },
  {
   "cell_type": "code",
   "execution_count": 7,
   "metadata": {
    "collapsed": false
   },
   "outputs": [
    {
     "data": {
      "text/html": [
       "<div>\n",
       "<table border=\"1\" class=\"dataframe\">\n",
       "  <thead>\n",
       "    <tr style=\"text-align: right;\">\n",
       "      <th></th>\n",
       "      <th>IP Address</th>\n",
       "      <th>IP Address.1</th>\n",
       "      <th>login:</th>\n",
       "      <th>pass:</th>\n",
       "      <th>Тип оборудования</th>\n",
       "    </tr>\n",
       "    <tr>\n",
       "      <th>Prolet</th>\n",
       "      <th></th>\n",
       "      <th></th>\n",
       "      <th></th>\n",
       "      <th></th>\n",
       "      <th></th>\n",
       "    </tr>\n",
       "  </thead>\n",
       "  <tbody>\n",
       "    <tr>\n",
       "      <th>00752 - 04958</th>\n",
       "      <td>10.1.66.9</td>\n",
       "      <td>10.1.66.17</td>\n",
       "      <td>Admin</td>\n",
       "      <td>12345678</td>\n",
       "      <td>iPasolink</td>\n",
       "    </tr>\n",
       "    <tr>\n",
       "      <th>04958 - 04420</th>\n",
       "      <td>10.1.66.17</td>\n",
       "      <td>10.1.66.18</td>\n",
       "      <td>Admin</td>\n",
       "      <td>12345678</td>\n",
       "      <td>iPasolink</td>\n",
       "    </tr>\n",
       "    <tr>\n",
       "      <th>04958 - 06041</th>\n",
       "      <td>10.1.66.17</td>\n",
       "      <td>10.1.66.19</td>\n",
       "      <td>Admin</td>\n",
       "      <td>12345678</td>\n",
       "      <td>iPasolink</td>\n",
       "    </tr>\n",
       "  </tbody>\n",
       "</table>\n",
       "</div>"
      ],
      "text/plain": [
       "               IP Address IP Address.1 login:     pass:  Тип оборудования\n",
       "Prolet                                                                   \n",
       "00752 - 04958   10.1.66.9   10.1.66.17   Admin  12345678        iPasolink\n",
       "04958 - 04420  10.1.66.17   10.1.66.18   Admin  12345678        iPasolink\n",
       "04958 - 06041  10.1.66.17   10.1.66.19   Admin  12345678        iPasolink"
      ]
     },
     "execution_count": 7,
     "metadata": {},
     "output_type": "execute_result"
    }
   ],
   "source": [
    "import pandas as pd\n",
    "import numpy as np\n",
    "from pandas import read_csv, DataFrame, Series\n",
    "import re\n",
    "# Set some Pandas options\n",
    "#pd.set_option('display.notebook_repr_html', False)\n",
    "pd.set_option('display.max_columns', 25)\n",
    "pd.set_option('display.max_rows', 10)\n",
    "t='00634 - 00644'\n",
    "t1='10.1.66.17'\n",
    "df = pd.read_excel('../to ip/Intralink+iPasolink_end.xlsx', sheetname=('new'), index_col=u'Prolet') \n",
    "#sheetname=('new')-какой лист в excel читать\n",
    "df.keys()#Посмотерть название столбцов\n",
    "#df.loc[[t]][[u'IP Address', u'IP Address.1', u'login: ', u'pass: ',u'Тип оборудования']]#Поиск по пролету\n",
    "#print df.columns прочитать заголовки столбцов\n",
    "#df[df[u'IP Address']==t1][[u'IP Address', u'IP Address.1', u'login: ', u'pass: ',u'Тип оборудования']]#Поиск по IP\n",
    "df[(df[u'IP Address']==t1)|(df[u'IP Address.1']==t1)][[u'IP Address', u'IP Address.1', u'login: ', u'pass: ',u'Тип оборудования']]#Поиск по IP по двум столбцам\n",
    "\n"
   ]
  },
  {
   "cell_type": "code",
   "execution_count": null,
   "metadata": {
    "collapsed": true
   },
   "outputs": [],
   "source": []
  },
  {
   "cell_type": "code",
   "execution_count": null,
   "metadata": {
    "collapsed": true
   },
   "outputs": [],
   "source": []
  }
 ],
 "metadata": {
  "kernelspec": {
   "display_name": "Python 2",
   "language": "python",
   "name": "python2"
  },
  "language_info": {
   "codemirror_mode": {
    "name": "ipython",
    "version": 2
   },
   "file_extension": ".py",
   "mimetype": "text/x-python",
   "name": "python",
   "nbconvert_exporter": "python",
   "pygments_lexer": "ipython2",
   "version": "2.7.13"
  }
 },
 "nbformat": 4,
 "nbformat_minor": 2
}
