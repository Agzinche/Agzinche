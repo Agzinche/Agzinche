{
 "cells": [
  {
   "cell_type": "markdown",
   "metadata": {
    "raw_mimetype": "text/markdown"
   },
   "source": [
    "<b>Базовый уровень"
   ]
  },
  {
   "cell_type": "markdown",
   "metadata": {},
   "source": [
    "<b>Задание 1.1 </b>\n",
    "\n",
    "Установите Python на свой компьютер. Выполнил"
   ]
  },
  {
   "cell_type": "markdown",
   "metadata": {},
   "source": [
    "<b> Задание 1.2 </b>\n",
    "\n",
    "Заведите учетную запись на сайте https://github.com и создайте репозиторий для выполненных домашних заданий по этому курсу. Выполнил"
   ]
  },
  {
   "cell_type": "markdown",
   "metadata": {},
   "source": [
    "<b>Задание 1.3 </b>"
   ]
  },
  {
   "cell_type": "code",
   "execution_count": 32,
   "metadata": {
    "collapsed": false
   },
   "outputs": [
    {
     "name": "stdout",
     "output_type": "stream",
     "text": [
      "Здравствуй, дивный новый мир!\n"
     ]
    }
   ],
   "source": [
    "print \"Здравствуй, дивный новый мир!\""
   ]
  },
  {
   "cell_type": "markdown",
   "metadata": {},
   "source": [
    "<b>Задание 1.4 </b>\n",
    "\n",
    "Вопрос конечно интересный. Если коротко после прохождения курса хочется сделать мир проще и красивее. Но...\n",
    "1 Хочу научиться автоматизировать функции EXCEL. Таике как ВПР, ЕСЛИ, СЧЕТЕСЛИ  и т.д.\n",
    "2 Есть файл с 500 тыс строк в EXCEL нужно сформировать новый исходя из запроса.\n",
    "3 Работа с поиском строк, их объединение и т.д.\n",
    "\n",
    "Хочу отказаться от EXCEL, заменив его PYTHON"
   ]
  },
  {
   "cell_type": "markdown",
   "metadata": {},
   "source": [
    "<b>Задание 2.1 </b>\n",
    "Выполнил"
   ]
  },
  {
   "cell_type": "markdown",
   "metadata": {},
   "source": [
    "<b>Продвинутый уровень </b> (с скобками беда)\n",
    "\n",
    "\n",
    "\n",
    "\n",
    "\n",
    "Задание 2.1 \n",
    "\n",
    "\n",
    "\n",
    "\n",
    "\n",
    "\n",
    "Процентная ставка по банковскому вкладу составляет $p = 8\\%$, капитализация происходит $f = 12$ раз в год. Сумма вклада составляет $S = 200000$ рублей. Рассчитайте в следующей ячейке прибыль по вкладу за $L = 5$ лет по следующей формуле:\n",
    "$$ S \\cdot \\left( 1 + \\frac{p}{100 \\cdot f} \\right)^{f \\cdot L} - S $$\n",
    "\n",
    "Решение"
   ]
  },
  {
   "cell_type": "code",
   "execution_count": 33,
   "metadata": {
    "collapsed": false
   },
   "outputs": [
    {
     "data": {
      "text/plain": [
       "97969.14166032098"
      ]
     },
     "execution_count": 33,
     "metadata": {},
     "output_type": "execute_result"
    }
   ],
   "source": [
    "200000*(1.0+(8.0/(100*12)))**(12*5)-200000"
   ]
  },
  {
   "cell_type": "markdown",
   "metadata": {},
   "source": [
    "<b>Задание 3.1 </b>\n",
    "\n",
    "3.1А\n",
    "Если в задаче 2.1 мы захотим пересчитать прибыль по вкладу для других значений параметров, нам придется подставить в формулу новые значения. Это не очень удобно – например, значение суммы вклада $S$ придется подставлять два раза. Гораздо проще запомнить значения параметров заранее (записать их в переменные), как это сделано в следующей ячейке. Запишите в последней строке нашу формулу, используя вместо чисел буквы p, f, S, L (переменные) и выполните ячейку.\n",
    "\n",
    "Убедитесь, что ответ совпадает с ответом к задаче 2.1.\n",
    "\n",
    "решение\n"
   ]
  },
  {
   "cell_type": "code",
   "execution_count": 34,
   "metadata": {
    "collapsed": false
   },
   "outputs": [
    {
     "name": "stdout",
     "output_type": "stream",
     "text": [
      "97969.1416603\n"
     ]
    }
   ],
   "source": [
    "#процент\n",
    "p=8.0\n",
    "# Частота капитализации\n",
    "f=12\n",
    "# сумма вклада\n",
    "S=200000\n",
    "#период\n",
    "L=5\n",
    "#Прибыль R=?\n",
    "R=S*(1.0+(p/(100*f)))**(f*L)-S\n",
    "print R"
   ]
  },
  {
   "cell_type": "markdown",
   "metadata": {},
   "source": [
    "3.1B\n",
    "Пересчитайте значение прибыли в случае, когда капитализация происходит один раз в год. Для этого исправьте строку f = 12 на f = 1 и перезапустите ячейку.\n",
    "Решение"
   ]
  },
  {
   "cell_type": "code",
   "execution_count": 35,
   "metadata": {
    "collapsed": false
   },
   "outputs": [
    {
     "name": "stdout",
     "output_type": "stream",
     "text": [
      "93865.61536\n"
     ]
    }
   ],
   "source": [
    "#процент\n",
    "p=8.0\n",
    "# Частота капитализации\n",
    "f=1\n",
    "# сумма вклада\n",
    "S=200000\n",
    "#период\n",
    "L=5\n",
    "#Прибыль R=?\n",
    "R=S*(1.0+(p/(100*f)))**(f*L)-S\n",
    "print R"
   ]
  }
 ],
 "metadata": {
  "celltoolbar": "Raw Cell Format",
  "kernelspec": {
   "display_name": "Python 2",
   "language": "python",
   "name": "python2"
  },
  "language_info": {
   "codemirror_mode": {
    "name": "ipython",
    "version": 2
   },
   "file_extension": ".py",
   "mimetype": "text/x-python",
   "name": "python",
   "nbconvert_exporter": "python",
   "pygments_lexer": "ipython2",
   "version": "2.7.13"
  }
 },
 "nbformat": 4,
 "nbformat_minor": 2
}
