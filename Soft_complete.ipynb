{
 "cells": [
  {
   "cell_type": "code",
   "execution_count": 384,
   "metadata": {
    "collapsed": false,
    "scrolled": true
   },
   "outputs": [
    {
     "name": "stdout",
     "output_type": "stream",
     "text": [
      "10.1.105.20Fri Nov 10 01:22:10 2017\n",
      "login ok\n",
      "pass\n",
      "ok\n",
      "\n",
      "Intracom OmniBAS Filesystem Version 201708031207\n",
      "10.1.105.81Fri Nov 10 01:22:21 2017\n",
      "login ok\n",
      "pass\n",
      "ok\n",
      "\n",
      "Intracom OmniBAS Filesystem Version 201708031207\n",
      "10.1.108.159Fri Nov 10 01:22:32 2017\n",
      "login ok\n",
      "pass\n",
      "ok\n",
      "\n",
      "Intracom OmniBAS Filesystem Version 201708031207\n",
      "Выполнил\n"
     ]
    }
   ],
   "source": [
    "import time\n",
    "import telnetlib\n",
    "import os\n",
    "import re\n",
    "text = str()\n",
    "text1 = str()\n",
    "text2 = str()\n",
    "text3 = str()\n",
    "user = \"admin\"\n",
    "password = \"admin\"\n",
    "comand=\"get system info card ctrlcard1\"\n",
    "with open('../Soft_complete/ip.txt', 'r') as ff:\n",
    "    a = ff.readlines()\n",
    "    a = [line.rstrip() for line in a]#удаляем\\n\n",
    "    a = \",\".join(a)\n",
    "    for host in a.split(','):\n",
    "        print(host+time.asctime())\n",
    "        zapros = os.system('ping '+host+' -n 1 -l 500 -w 1000')\n",
    "        if zapros==1:\n",
    "            otvet=\"DOWN\",';',host,'\\n'\n",
    "            for d in otvet:\n",
    "                text1 += d\n",
    "                with open('../Soft_complete/alarm.csv', 'w') as f:\n",
    "                    f.write(text1)\n",
    "        elif zapros==0:\n",
    "            # Логинимся\n",
    "            tn = telnetlib.Telnet(host)\n",
    "            print 'login',\n",
    "            tn.read_until(\"Username: \")\n",
    "            tn.write(user + \"\\r\")\n",
    "            print 'ok\\npass'\n",
    "            tn.read_until(\"Password: \")\n",
    "            tn.write(password + \"\\r\")\n",
    "            print 'ok'\n",
    "            time.sleep(3)\n",
    "            #print tn.read_some()\n",
    "            # Читаем результат, посылаем команду\n",
    "            time.sleep(3)\n",
    "            print tn.read_some()\n",
    "            tn.write(comand + \"\\r\") #посмотреть информацию о софте\n",
    "            tn.write(\"exit\\r\")\n",
    "            rez=host+\"____\"+tn.read_all()+';'\n",
    "            for d in rez:\n",
    "                text+=d\n",
    "            \n",
    "with open('../Soft_complete/temp.csv', 'w') as f:\n",
    "    f.write(text)\n",
    "with open('../Soft_complete/temp.csv', 'r') as ff:\n",
    "    a = ff.readlines()\n",
    "    a = [line.rstrip() for line in a]#удаляем\\n\n",
    "    a = \"&\".join(a)\n",
    "    for name in a.split(';'):\n",
    "        if name:\n",
    "            splitname=name.split('&')\n",
    "            systemversion=splitname [12]\n",
    "            host=splitname [25]\n",
    "            SystemName = splitname[6] \n",
    "            rez = host +';'+SystemName+';'+systemversion+'\\n'\n",
    "            for d in rez:\n",
    "                text2+=d\n",
    "cols = 'Host'+';'+'SystemName'+\";\"+\"systemversion\"+\"\\n\"\n",
    "for t in cols:\n",
    "    text3+=t\n",
    "with open('../Soft_complete/rezultat.csv', 'w') as f:\n",
    "    f.write(text3)\n",
    "    f.write(text2)\n",
    "    f.close()\n",
    "                \n",
    "print unicode ('Выполнил',encoding='utf-8')\n",
    "        \n",
    "        \n",
    "        \n",
    "\n",
    "        "
   ]
  },
  {
   "cell_type": "code",
   "execution_count": null,
   "metadata": {
    "collapsed": false
   },
   "outputs": [],
   "source": [
    "\n",
    "\n",
    "            "
   ]
  },
  {
   "cell_type": "code",
   "execution_count": null,
   "metadata": {
    "collapsed": true
   },
   "outputs": [],
   "source": [
    "with open('../Soft_complete/temp.csv', 'r') as ff:\n",
    "    a = ff.readlines()\n",
    "    a = [line.rstrip() for line in a]#удаляем\\n\n",
    "    a = \"&\".join(a)\n",
    "    for name in a.split(';'):\n",
    "        if name:\n",
    "            splitname=name.split('&')\n",
    "            systemversion=splitname [12]\n",
    "            host=splitname [25]\n",
    "            SystemName = splitname[6] \n",
    "            rez = host +';'+SystemName+';'+systemversion+'\\n'\n",
    "            print(SystemName)\n",
    "            print(splitname)"
   ]
  },
  {
   "cell_type": "code",
   "execution_count": null,
   "metadata": {
    "collapsed": true
   },
   "outputs": [],
   "source": []
  }
 ],
 "metadata": {
  "kernelspec": {
   "display_name": "Python 2",
   "language": "python",
   "name": "python2"
  },
  "language_info": {
   "codemirror_mode": {
    "name": "ipython",
    "version": 2
   },
   "file_extension": ".py",
   "mimetype": "text/x-python",
   "name": "python",
   "nbconvert_exporter": "python",
   "pygments_lexer": "ipython2",
   "version": "2.7.13"
  }
 },
 "nbformat": 4,
 "nbformat_minor": 2
}
