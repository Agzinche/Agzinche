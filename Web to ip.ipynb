{
 "cells": [
  {
   "cell_type": "code",
   "execution_count": 1,
   "metadata": {
    "collapsed": false
   },
   "outputs": [
    {
     "name": "stdout",
     "output_type": "stream",
     "text": [
      "Выполнил\n"
     ]
    }
   ],
   "source": [
    "###!!!!!!!!Браузер ДОЛЖЕН БЫТЬ ОТКРЫТ!!!!!!!!!!!!!!!!!!\n",
    "import webbrowser\n",
    "import re\n",
    "text = str()\n",
    "with open('../to Web/ip.txt', 'r') as ff:\n",
    "    a = ff.xreadlines()\n",
    "    a = \"/n\".join(a)\n",
    "    for url in a.split('/n'):\n",
    "        chrome_path = 'C:/Program Files (x86)/Google/Chrome/Application/chrome.exe %s'\n",
    "        webbrowser.get(chrome_path).open(url)\n",
    "        \n",
    "print(\"Выполнил\")"
   ]
  },
  {
   "cell_type": "markdown",
   "metadata": {},
   "source": [
    "Вспомогалки "
   ]
  },
  {
   "cell_type": "code",
   "execution_count": null,
   "metadata": {
    "collapsed": true
   },
   "outputs": [],
   "source": [
    "import webbrowser\n",
    "webbrowser.open(\"http://www.facebook.com\")# открывает в браузере по умолчанию\n",
    "url = ('10.1.88.2')# ip адрес железки\n",
    "\n",
    "chrome_path = 'C:/Program Files (x86)/Google/Chrome/Application/chrome.exe %s'# открыть в хроме\n",
    "\n",
    "webbrowser.get(chrome_path).open(url) # открыть в хроме ip железки\n"
   ]
  },
  {
   "cell_type": "code",
   "execution_count": null,
   "metadata": {
    "collapsed": true
   },
   "outputs": [],
   "source": []
  }
 ],
 "metadata": {
  "kernelspec": {
   "display_name": "Python 2",
   "language": "python",
   "name": "python2"
  },
  "language_info": {
   "codemirror_mode": {
    "name": "ipython",
    "version": 2
   },
   "file_extension": ".py",
   "mimetype": "text/x-python",
   "name": "python",
   "nbconvert_exporter": "python",
   "pygments_lexer": "ipython2",
   "version": "2.7.13"
  }
 },
 "nbformat": 4,
 "nbformat_minor": 2
}
