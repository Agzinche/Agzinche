{
 "cells": [
  {
   "cell_type": "code",
   "execution_count": null,
   "metadata": {
    "collapsed": false
   },
   "outputs": [],
   "source": [
    "import os\n",
    "a = ('10.1.106.64')\n",
    "zapros = os.system('ping '+a+' -n 3 -l 500 -w 1000')\n",
    "#print(zapros) #если 0 узел доступен.\n",
    "#где n 30 число пакетов -l длина пакета -w ожидать ответ 1 секунду (1000мсек). \n",
    "if zapros == 0:\n",
    "    print(u'Узел доступен')\n",
    "else:\n",
    "    print(u'Узел не доступен')"
   ]
  },
  {
   "cell_type": "code",
   "execution_count": null,
   "metadata": {
    "collapsed": false,
    "scrolled": true
   },
   "outputs": [],
   "source": [
    "import os\n",
    "import re\n",
    "text = str()\n",
    "a = ['10.1.101.28','10.1.101.18']\n",
    "a = \",\".join(a)\n",
    "#print type(a)\n",
    "for line in a.split(','):\n",
    "    print(line)\n",
    "    for i in (line):\n",
    "        zapros = os.system('ping '+line+' -n 1 -l 500 -w 1000')\n",
    "        #print zapros\n",
    "        if zapros == 0:\n",
    "            print unicode('Узел доступен', encoding='utf-8',),line\n",
    "            \n",
    "        elif zapros == 1:\n",
    "            print unicode ('Узел не доступен',encoding='utf-8'),line\n",
    "         "
   ]
  },
  {
   "cell_type": "code",
   "execution_count": null,
   "metadata": {
    "collapsed": false
   },
   "outputs": [],
   "source": [
    "import os\n",
    "import re\n",
    "text = str()\n",
    "with open('../Ping/Ping_1.txt', 'r') as ff:\n",
    "    a = ff.xreadlines()\n",
    "    a = \"/n\".join(a)\n",
    "    for line in a.split('/n'):\n",
    "        zapros = os.system('ping '+line+' -n 1 -l 500 -w 1000')\n",
    "        if zapros == 0:\n",
    "            l= 'UP',';',line#,'\\n'\n",
    "            for d in l:\n",
    "                text += d\n",
    "        elif zapros == 1:\n",
    "            l= 'DOWN',';',line#, '\\n'\n",
    "            for d in l:\n",
    "                text += d\n",
    "\n",
    "with open('../Ping/ping_rez.csv', 'w') as f:\n",
    "    f.write(text)\n",
    "print unicode ('Выполнил',encoding='utf-8')\n",
    "            \n",
    "        \n",
    "            \n",
    "           "
   ]
  },
  {
   "cell_type": "code",
   "execution_count": null,
   "metadata": {
    "collapsed": true
   },
   "outputs": [],
   "source": []
  }
 ],
 "metadata": {
  "kernelspec": {
   "display_name": "Python 2",
   "language": "python",
   "name": "python2"
  },
  "language_info": {
   "codemirror_mode": {
    "name": "ipython",
    "version": 2
   },
   "file_extension": ".py",
   "mimetype": "text/x-python",
   "name": "python",
   "nbconvert_exporter": "python",
   "pygments_lexer": "ipython2",
   "version": "2.7.13"
  }
 },
 "nbformat": 4,
 "nbformat_minor": 2
}
