{
 "cells": [
  {
   "cell_type": "code",
   "execution_count": null,
   "metadata": {
    "collapsed": true
   },
   "outputs": [],
   "source": [
    "###!!!!!!!!Браузер ДОЛЖЕН БЫТЬ ОТКРЫТ!!!!!!!!!!!!!!!!!!\n",
    "##Обязательно подготовить файл для считки host, vlan, vlanname"
   ]
  },
  {
   "cell_type": "code",
   "execution_count": 7,
   "metadata": {
    "collapsed": false
   },
   "outputs": [
    {
     "name": "stdout",
     "output_type": "stream",
     "text": [
      "10.1.93.55;299;Test_Zinchenko\n",
      "('10.1.93.55', 'SNMPv2-SMI::enterprises.119.2.3.69.501.5.20.5.1.4.299 = 6')\n",
      "('10.1.93.55', u'SNMPv2-SMI::enterprises.119.2.3.69.501.5.20.5.1.3.299 = Test_Zinchenko')\n",
      "10.1.93.17;299;Test_Zinchenko\n",
      "('10.1.93.17', 'SNMPv2-SMI::enterprises.119.2.3.69.501.5.20.5.1.4.299 = 6')\n",
      "('10.1.93.17', u'SNMPv2-SMI::enterprises.119.2.3.69.501.5.20.5.1.3.299 = Test_Zinchenko')\n"
     ]
    }
   ],
   "source": [
    "#Импорт требуемых библиотек\n",
    "import pysnmp\n",
    "from pysnmp.hlapi import *\n",
    "from pysnmp.entity.rfc3413.oneliner import cmdgen\n",
    "import webbrowser\n",
    "\n",
    "#Oid для создания vlan на порту\n",
    "oidVlan = '1.3.6.1.4.1.119.2.3.69.501.5.20.5.1.4.'\n",
    "# Oid для создания имени Vlan\n",
    "oidVlanName = '1.3.6.1.4.1.119.2.3.69.501.5.20.5.1.3.' \n",
    "\n",
    "with open('../Create_Vlan/Ip_Vlan_VlanName.txt', 'r') as ff:\n",
    "    a = ff.readlines()\n",
    "    a = [line.rstrip() for line in a]#удаляем\\n\n",
    "    a = \",\".join(a)\n",
    "    for prolet in a.split(','):\n",
    "        print(prolet)\n",
    "        host,vlan,vlanName = prolet.split(';')\n",
    "        #Oid для создания vlan на порту\n",
    "        oidVlan = '1.3.6.1.4.1.119.2.3.69.501.5.20.5.1.4.'\n",
    "        # Oid для создания имени Vlan\n",
    "        oidVlanName = '1.3.6.1.4.1.119.2.3.69.501.5.20.5.1.3.' \n",
    "        \n",
    "        #Добавляем в oidVlan и oidVlanName знчачение Vlan\n",
    "        oidVlan=oidVlan + vlan\n",
    "        oidVlanName=oidVlanName+vlan\n",
    "        #print(oidVlan)\n",
    "        #print(oidVlanName)\n",
    "        #Подключение к iPas\n",
    "        snmp = cmdgen.CommandGenerator()\n",
    "        target = cmdgen.UdpTransportTarget((host, 161), timeout=2, retries=1)#куда подключаемся\n",
    "        usm = cmdgen.UsmUserData('Admin', 'password01', 'password02') #Аутентификация\n",
    "        errorIndication, errorStatus, errorIndex, varBinds = next(\n",
    "            setCmd(\n",
    "                SnmpEngine(),\n",
    "                usm,\n",
    "                target,\n",
    "                ContextData(),\n",
    "                ObjectType(ObjectIdentity(oidVlan), Integer(4)),#4-запись; 6-удаление; 1 - просто статус внутрений.\n",
    "                ObjectType(ObjectIdentity(oidVlanName), OctetString(vlanName))))#Записи имени\n",
    "        if errorIndication:\n",
    "            print(errorIndication)\n",
    "        elif errorStatus:\n",
    "            print('%s at %s' % (errorStatus.prettyPrint(),\n",
    "                        errorIndex and varBinds[int(errorIndex) - 1][0] or '?'))\n",
    "        else:\n",
    "            for varBind in varBinds:\n",
    "                print(host,' = '.join([x.prettyPrint() for x in varBind]))\n",
    "        chrome_path = 'C:/Program Files (x86)/Google/Chrome/Application/chrome.exe %s'\n",
    "        webbrowser.get(chrome_path).open(host)"
   ]
  },
  {
   "cell_type": "markdown",
   "metadata": {},
   "source": [
    "Типовые ошибки\n",
    "если Vlan уже создан то будет ошибка 'inconsistentValue'"
   ]
  }
 ],
 "metadata": {
  "kernelspec": {
   "display_name": "Python 2",
   "language": "python",
   "name": "python2"
  },
  "language_info": {
   "codemirror_mode": {
    "name": "ipython",
    "version": 2
   },
   "file_extension": ".py",
   "mimetype": "text/x-python",
   "name": "python",
   "nbconvert_exporter": "python",
   "pygments_lexer": "ipython2",
   "version": "2.7.13"
  }
 },
 "nbformat": 4,
 "nbformat_minor": 2
}
