{
 "cells": [
  {
   "cell_type": "markdown",
   "metadata": {
    "collapsed": false
   },
   "source": [
    "Рабочий вариант 1 Необходимо подготовить файл \"Intralink+iPasolink_end.xlsx\" ввести понятие два пролета ProletA_Z, ProletZ_A, первый столбец Prolet, Заменить \"тип оборудования\" на Type. 2 Данные Грищенко скопировать в файл \"Rout.txt\". 3 Наслаждаться результатом ))"
   ]
  },
  {
   "cell_type": "code",
   "execution_count": 2,
   "metadata": {
    "collapsed": false
   },
   "outputs": [
    {
     "name": "stdout",
     "output_type": "stream",
     "text": [
      "13184-2450;\n",
      "2450-598;\n",
      "13830-5803;\n",
      "5803-5777;\n",
      "15138-208;\n",
      "14158-4193;\n",
      "4193-414;\n",
      "14404-10459;\n",
      "10459-5901;\n",
      "14615-618;\n",
      "671-539;\n",
      "736-723;\n",
      "1802-1798;\n",
      "12513-4852;\n",
      "Выполнил\n"
     ]
    }
   ],
   "source": [
    "# coding: utf-8\n",
    "import pandas as pd\n",
    "import xlwt\n",
    "import numpy as np\n",
    "from pandas import read_csv, DataFrame, Series\n",
    "import re\n",
    "# Set some Pandas options\n",
    "pd.set_option('display.notebook_repr_html', False)\n",
    "pd.set_option('display.max_columns', 300)\n",
    "pd.set_option('display.max_rows', 150)\n",
    "\n",
    "mas=[]\n",
    "text = str()\n",
    "text1 = str()\n",
    "text2 = str()\n",
    "text3 = str()\n",
    "##Замена '-' на ';'\n",
    "with open('../Requests_Rout/Rout.txt', 'r') as ff:\n",
    "    a = ff.readlines()\n",
    "    #a = [line.rstrip() for line in a]#удаляем\\n\n",
    "    a = \",\".join(a)\n",
    "    for prolets in a.split(','):\n",
    "        #print(prolets)\n",
    "        for idu in prolets:\n",
    "            \n",
    "            if idu==\"-\":\n",
    "                idu=\";\"\n",
    "            elif idu ==\"+\":\n",
    "                idu=';'\n",
    "            elif idu =='(':\n",
    "                idu=''\n",
    "            elif idu =='E':\n",
    "                idu=''\n",
    "            elif idu =='X':\n",
    "                idu=''\n",
    "            elif idu ==')':\n",
    "                idu=''\n",
    "               \n",
    "            for d in idu:\n",
    "                text+=d\n",
    "                with open('../Requests_Rout/idu.txt','w') as f:\n",
    "                    f.write(text)\n",
    "#Попытка создать пролет\n",
    "mas=[]\n",
    "\n",
    "with open('../Requests_Rout/idu.txt', 'r') as ff:\n",
    "    a = ff.readlines()\n",
    "    a = [line.rstrip() for line in a]#удаляем\\n\n",
    "    a = \"\\n\".join(a)\n",
    "    for prolets1 in a.split('\\n'):\n",
    "        #print(prolets)\n",
    "        \n",
    "        for idu in prolets1.split(';'):\n",
    "            mas.append(idu)\n",
    "        n=len(mas)\n",
    "        for i in range(n-1):\n",
    "            prolet= mas[i]+\"-\"+mas[i+1]+';'#+'\\n'\n",
    "            print(prolet)\n",
    "            for d in prolet:\n",
    "                text1+=d\n",
    "                with open('../Requests_Rout/prolets.txt','w') as f:\n",
    "                    f.write(text1)\n",
    "        mas=[]\n",
    "###Поиск пролетов и итоговый файл\n",
    "#df = pd.read_excel('../Requests_Rout/Intralink+iPasolink_end.xlsx', sheetname=('new'), index_col=u'Prolet', encoding='utf-8'\n",
    "\n",
    "with open('../Requests_Rout/prolets.txt', 'r') as ff:\n",
    "    a = ff.readlines()\n",
    "    a = [line.rstrip() for line in a]#удаляем\\n\n",
    "    a = \";\".join(a)\n",
    "    #print(a)\n",
    "    df = pd.read_excel('../Requests_Rout/Intralink+iPasolink_end.xlsx', sheetname=('new'), index_col=u'Prolet', encoding='utf-8')\n",
    "    rez = DataFrame()#создаем пустой дата фрейм\n",
    "    for prolets1 in a.split(';'): #считываем и делим по ;\n",
    "        prolets1=str(prolets1)\n",
    "        pd.set_option('display.max_columns', 300) #число стобцов из таблицы \n",
    "        pd.set_option('display.max_rows', 10) #число строк считываемое из таблицы\n",
    "        df = pd.read_excel('../Requests_Rout/Intralink+iPasolink_end.xlsx', sheetname=('new'), index_col=u'Prolet', encoding='utf-8')#считываем файл\n",
    "        bb=df[(df[u'ProletA_Z']==prolets1)|(df[u'ProletZ_A']==prolets1)][[u'IP Address', u'IP Address.1', u'login: ', u'pass: ',u'Type']]#поиск в фале по пролету\n",
    "        rez = rez.append(bb)#запись в пустой датафрейм\n",
    "        #print(rez)\n",
    "        rez.to_csv('itog.csv')  \n",
    "    \n",
    "print unicode ('Выполнил',encoding='utf-8')            \n",
    "        "
   ]
  },
  {
   "cell_type": "code",
   "execution_count": null,
   "metadata": {
    "collapsed": false
   },
   "outputs": [],
   "source": []
  },
  {
   "cell_type": "code",
   "execution_count": null,
   "metadata": {
    "collapsed": true
   },
   "outputs": [],
   "source": []
  }
 ],
 "metadata": {
  "kernelspec": {
   "display_name": "Python 2",
   "language": "python",
   "name": "python2"
  },
  "language_info": {
   "codemirror_mode": {
    "name": "ipython",
    "version": 2
   },
   "file_extension": ".py",
   "mimetype": "text/x-python",
   "name": "python",
   "nbconvert_exporter": "python",
   "pygments_lexer": "ipython2",
   "version": "2.7.13"
  }
 },
 "nbformat": 4,
 "nbformat_minor": 2
}
