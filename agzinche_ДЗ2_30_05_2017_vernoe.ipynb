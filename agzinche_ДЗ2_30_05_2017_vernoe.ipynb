{
 "cells": [
  {
   "cell_type": "code",
   "execution_count": 13,
   "metadata": {
    "collapsed": false,
    "scrolled": true
   },
   "outputs": [
    {
     "name": "stdout",
     "output_type": "stream",
     "text": [
      "{'+7 916 000 00 02': {'Data': '21.05.2017'}, '+7 916 000 00 01': {'Data': '20.05.2017'}, 'Data': '21.05.2017'}\n",
      "{'+7 916 000 00 02': {'Data': '21.05.2017'}, '+7 916 000 00 01': {'Data': '20.05.2017'}, 'Data': '21.05.2017'}\n"
     ]
    },
    {
     "data": {
      "text/plain": [
       "True"
      ]
     },
     "execution_count": 13,
     "metadata": {},
     "output_type": "execute_result"
    }
   ],
   "source": [
    "reviews = [\"\"\"Телефон абонента: +7 916 000 00 01\n",
    "Время: 10:34\n",
    "Дата: 20.05.2017\n",
    "Оценка: 1\n",
    "Длительность разговора (мин.): 0:32\n",
    "Комментарий: Общение с сотрудником вашей техподдержки мне не понравилось. Раньше всегда отвечала девушка с приятным голосом, а сегодня какой-то мужчина. Совсем никуда не годится, примите меры!!!\"\"\",\n",
    "\"\"\"Телефон абонента: +7 916 000 00 02\n",
    "Время: 9:20\n",
    "Дата: 21.05.2017\n",
    "Оценка: 5\n",
    "Длительность разговора (мин.): 25:07\n",
    "Комментарий: С моей проблемой мне помогли, большое спасибо!\"\"\"]\n",
    "splitted = \"_\".join(reviews)\n",
    "for line in splitted.split('_'):\n",
    "    if line:\n",
    "        splitted_line = line.split(': ')\n",
    "        field_name = splitted_line[0] \n",
    "        field_nunber = splitted_line[1][0:16]\n",
    "        field_data = splitted_line[3][0:10]\n",
    "        #print field_data,\n",
    "        #print field_nunber\n",
    "        my_base[field_nunber]={'Data' : field_data}\n",
    "        print my_base\n",
    "my_base['+7 916 000 00 01']['Data'] == '20.05.2017'\n",
    "\n",
    "#У меня в цикле\n",
    "#my_base[field_number] = {'Data' : field_data}\n",
    "\n",
    "#Здесь уже я говорю питону, в словаре в ключе field_number (если нет, то создать) помести value = {'Data' : field_data}\n",
    "#И так дописывается в словарь.\n"
   ]
  },
  {
   "cell_type": "code",
   "execution_count": null,
   "metadata": {
    "collapsed": true
   },
   "outputs": [],
   "source": []
  }
 ],
 "metadata": {
  "kernelspec": {
   "display_name": "Python 2",
   "language": "python",
   "name": "python2"
  },
  "language_info": {
   "codemirror_mode": {
    "name": "ipython",
    "version": 2
   },
   "file_extension": ".py",
   "mimetype": "text/x-python",
   "name": "python",
   "nbconvert_exporter": "python",
   "pygments_lexer": "ipython2",
   "version": "2.7.13"
  }
 },
 "nbformat": 4,
 "nbformat_minor": 2
}
