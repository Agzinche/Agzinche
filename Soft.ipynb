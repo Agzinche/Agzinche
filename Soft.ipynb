{
 "cells": [
  {
   "cell_type": "markdown",
   "metadata": {
    "collapsed": true
   },
   "source": [
    "Больше одной железки накатка софта"
   ]
  },
  {
   "cell_type": "code",
   "execution_count": 1,
   "metadata": {
    "collapsed": false,
    "scrolled": false
   },
   "outputs": [
    {
     "name": "stdout",
     "output_type": "stream",
     "text": [
      "login ok\n",
      "pass ok\n",
      "\n",
      "Intracom OmniBAS Filesystem Version 201602241411\n",
      "10.1.120.157_start Thu Nov 09 19:47:57 2017\n",
      "Выполнил\n"
     ]
    }
   ],
   "source": [
    "# coding: utf-8\n",
    "import time\n",
    "import telnetlib\n",
    "text = str()\n",
    "user = \"admin\"\n",
    "password = \"admin\"\n",
    "with open('../OmniBas/ip.txt', 'r') as ff:\n",
    "    a = ff.readlines()\n",
    "    a = [line.rstrip() for line in a]#удаляем\\n\n",
    "    a = \",\".join(a)\n",
    "    for host in a.split(','):\n",
    "        # Логинимся\n",
    "        tn = telnetlib.Telnet(host)\n",
    "        print 'login',\n",
    "        tn.read_until(\"Username: \")\n",
    "        tn.write(user + \"\\r\")\n",
    "        print 'ok\\npass',\n",
    "        tn.read_until(\"Password: \")\n",
    "        tn.write(password + \"\\r\")\n",
    "        print 'ok'\n",
    "        # Читаем результат, посылаем команду\n",
    "        time.sleep(3)\n",
    "        print tn.read_some()\n",
    "        \n",
    "        #Сохраняем конфигурацию железки\n",
    "        start='start'+' '+time.asctime()\n",
    "        print(host+\"_\"+start)\n",
    "        tn.write(\"config save\" + \"\\r\") #сохранение всего\n",
    "        tn.read_until(\"Previously saved configuration archive removed successfully\")\n",
    "        rez=host+'_'+start+'_'+'_'+'config save: '+'_'+'ok'+'_'+time.asctime(),'\\n'\n",
    "        for d in rez:\n",
    "            text+=d\n",
    "        #Запускаем заливку софта\n",
    "        start='start'+' '+time.asctime()\n",
    "        #до 5.5.1\n",
    "        #tn.write(\"upgrade repos serverip 192.168.25.46 login fwupdate password .4rtan#l5!1@ serverpath /5.5.1\"+ \"\\r\") \n",
    "        #после 5.5.1\n",
    "        tn.write(\"upgrade repos serverip 192.168.25.46 login fwupdate password .4rtan#l5!1@ serverpath /5.5.5\"+ \"\\r\")\n",
    "        tn.read_until(\"Operation completed\")\n",
    "        rez=host+'_'+start+'_'+'_'+'Soft download: '+'_'+'ok'+'_'+time.asctime(),'\\n'\n",
    "        for d in rez:\n",
    "            text+=d\n",
    "        \n",
    "        #Выходим с железки\n",
    "        start='start'+' '+time.asctime()\n",
    "        tn.write(\"exit\\r\")\n",
    "        rez=host+'_'+start+'_'+'_'+'exit: '+'_'+'ok'+'_'+time.asctime(),'\\n'\n",
    "        for d in rez:\n",
    "            text+=d\n",
    "        #print tn.read_all()\n",
    "        \n",
    "with open('../OmniBas/rezultat.csv', 'w') as f:\n",
    "    f.write(text)\n",
    "print unicode ('Выполнил',encoding='utf-8')\n",
    "        \n",
    "        \n",
    "       \n",
    "    \n",
    "        \n",
    "        \n",
    "        \n",
    "        \n",
    "        "
   ]
  },
  {
   "cell_type": "code",
   "execution_count": null,
   "metadata": {
    "collapsed": false
   },
   "outputs": [],
   "source": []
  },
  {
   "cell_type": "code",
   "execution_count": null,
   "metadata": {
    "collapsed": true
   },
   "outputs": [],
   "source": []
  }
 ],
 "metadata": {
  "kernelspec": {
   "display_name": "Python 2",
   "language": "python",
   "name": "python2"
  },
  "language_info": {
   "codemirror_mode": {
    "name": "ipython",
    "version": 2
   },
   "file_extension": ".py",
   "mimetype": "text/x-python",
   "name": "python",
   "nbconvert_exporter": "python",
   "pygments_lexer": "ipython2",
   "version": "2.7.13"
  }
 },
 "nbformat": 4,
 "nbformat_minor": 2
}
