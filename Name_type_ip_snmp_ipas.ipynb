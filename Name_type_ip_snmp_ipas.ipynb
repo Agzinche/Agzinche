{
 "cells": [
  {
   "cell_type": "code",
   "execution_count": 23,
   "metadata": {
    "collapsed": false
   },
   "outputs": [
    {
     "name": "stdout",
     "output_type": "stream",
     "text": [
      "10.1.66.80\n",
      "10.1.66.4\n",
      "10.1.84.234\n",
      "10.1.80.244\n",
      "Выполнил\n"
     ]
    }
   ],
   "source": [
    "from __future__ import print_function\n",
    "from pysnmp.entity.rfc3413.oneliner import cmdgen\n",
    "import ctypes\n",
    "\n",
    "#Функция snmpget\n",
    "def SNMPGet(oid):\n",
    "    try:\n",
    "        errIndication, errStatus, errIndex, varBinds = snmp.getCmd(usm, target, oid)\n",
    "        if errIndication or errStatus:\n",
    "            raise SNMPError(errIndication, errStatus, errIndex, varBinds)\n",
    "        return varBinds\n",
    "    except SNMPError as e:\n",
    "        # Check for errors and print out results\n",
    "        if e.errIndication:\n",
    "            print(e.errIndication)\n",
    "        else:\n",
    "            if e.errStatus:\n",
    "                print('%s at %s' % (e.errStatus.prettyPrint(), e.errIndex and e.varBinds[int(e.errIndex) - 1][0] or '?'))\n",
    "        exit()\n",
    "text = str()\n",
    "text1=str()\n",
    "with open('../Name_type/ip.txt', 'r') as ff:\n",
    "    a = ff.readlines()\n",
    "    a = [line.rstrip() for line in a]#удаляем\\n\n",
    "    a = \",\".join(a)\n",
    "    for host in a.split(','):\n",
    "        print(host)\n",
    "        oidModemName = '1.3.6.1.4.1.119.2.3.69.5.1.1.1.3.1'\n",
    "        oidModemType = '1.3.6.1.4.1.119.2.3.69.5.1.1.1.11.1'\n",
    "        oidPortName = '1.3.6.1.4.1.119.2.3.69.501.5.30.1.1.11.'\n",
    "        oidPortState = '1.3.6.1.4.1.119.2.3.69.501.5.30.1.1.8.'\n",
    "        oidVlans = '1.3.6.1.4.1.119.2.3.69.501.5.20.5.1.3'\n",
    "        oidVlanPort = '1.3.6.1.4.1.119.2.3.69.501.5.20.2.1.5'\n",
    "        oidPhyState = '1.3.6.1.4.1.119.2.3.69.501.3.13.8.1.1.13.'\n",
    "        snmp = cmdgen.CommandGenerator()#команда для подключения, по умлочанию 161 порт, паблик, localhost\n",
    "        usm = cmdgen.UsmUserData('Admin', 'password01', 'password02')# SNMP ver.3 подключаемся\n",
    "        target = cmdgen.UdpTransportTarget((host, 161), timeout=2, retries=1) #ip адрес, порт подключения, тайм-аут, число повторений\n",
    "        varBinds = SNMPGet(oidModemName)#запрос иемни модема\n",
    "        IDU_name = varBinds [0][1]#обрезалка с нулевой строки, первое значение\n",
    "        IDU_type = SNMPGet(oidModemType) [0][1]\n",
    "        if IDU_type == 210:\n",
    "            IDU_type=\"iPasolink-200\"\n",
    "        elif IDU_type == 200:\n",
    "            IDU_type=\"iPasolink-200\"\n",
    "        elif IDU_type == 400:\n",
    "            IDU_type=\"iPasolink-400\"\n",
    "        elif IDU_type == 1000:\n",
    "            IDU_type=\"iPasolink-1000\"\n",
    "        elif IDU_type == 520:\n",
    "            IDU_type=\"iPasolink-EX\"\n",
    "        elif IDU_type == 10520:\n",
    "            IDU_type=\"iPasolink-EX\"\n",
    "        rez = IDU_name +';'+ IDU_type+';'+host+'\\n'\n",
    "        for d in rez:\n",
    "            text+=d\n",
    "cols = 'NAME'+';'+'TYPE'+\";\"+\"IP\"+\"\\n\"\n",
    "for t in cols:\n",
    "    text1+=t\n",
    "    \n",
    "with open('../Name_type/rezultat.csv', 'w') as f:\n",
    "    f.write(text1)\n",
    "    f.write(text)\n",
    "    f.close()\n",
    "print('Выполнил')\n",
    "  \n",
    "\n",
    "    "
   ]
  },
  {
   "cell_type": "code",
   "execution_count": null,
   "metadata": {
    "collapsed": true
   },
   "outputs": [],
   "source": [
    "    #print('{} [{}]\\t\\tIP: {}'.format(IDU['name'], IDU['model'], ipAddr))"
   ]
  },
  {
   "cell_type": "code",
   "execution_count": null,
   "metadata": {
    "collapsed": true
   },
   "outputs": [],
   "source": []
  }
 ],
 "metadata": {
  "kernelspec": {
   "display_name": "Python 2",
   "language": "python",
   "name": "python2"
  },
  "language_info": {
   "codemirror_mode": {
    "name": "ipython",
    "version": 2
   },
   "file_extension": ".py",
   "mimetype": "text/x-python",
   "name": "python",
   "nbconvert_exporter": "python",
   "pygments_lexer": "ipython2",
   "version": "2.7.13"
  }
 },
 "nbformat": 4,
 "nbformat_minor": 2
}
