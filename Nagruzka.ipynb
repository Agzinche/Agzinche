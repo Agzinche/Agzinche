{
 "cells": [
  {
   "cell_type": "code",
   "execution_count": 5,
   "metadata": {
    "collapsed": false
   },
   "outputs": [
    {
     "name": "stdout",
     "output_type": "stream",
     "text": [
      "10.1.104.133\n",
      "login ok\n",
      "pass ok\n",
      "\n",
      "Intracom OmniBAS Filesystem Version 201503201645\n",
      "10.1.104.134\n",
      "login ok\n",
      "pass ok\n",
      "\n",
      "Intracom OmniBAS Filesystem Version 201503201645\n",
      "Выполнил\n"
     ]
    }
   ],
   "source": [
    "# coding: utf-8\n",
    "import time\n",
    "import telnetlib\n",
    "text = str()\n",
    "user = \"admin\"\n",
    "password = \"admin\"\n",
    "comand=\"get bridge vlan\"\n",
    "with open('../Nagruzka/ip.txt', 'r') as ff:\n",
    "    a = ff.readlines()\n",
    "    a = [line.rstrip() for line in a]#удаляем\\n\n",
    "    a = \",\".join(a)\n",
    "    for host in a.split(','):\n",
    "        print(host)\n",
    "        #Логинимся\n",
    "        tn = telnetlib.Telnet(host)\n",
    "        print 'login',\n",
    "        tn.read_until(\"Username: \")\n",
    "        tn.write(user + \"\\r\")\n",
    "        print 'ok\\npass',\n",
    "        tn.read_until(\"Password: \")\n",
    "        tn.write(password + \"\\r\")\n",
    "        print 'ok'\n",
    "        # Читаем результат, посылаем команду\n",
    "        time.sleep(3)\n",
    "        print tn.read_some()\n",
    "        tn.write(comand + \"\\r\") #посмотреть все VLAN\n",
    "        tn.write(\"exit\\r\")\n",
    "        rez=host+\"____\"+tn.read_all()\n",
    "        for d in rez:\n",
    "            text+=d\n",
    "with open('../Nagruzka/rezultat.csv', 'w') as f:\n",
    "    f.write(text)\n",
    "print unicode ('Выполнил',encoding='utf-8')\n",
    "        \n",
    "        #Выход с железки\n",
    "        \n",
    "        #tn.write(\"exit\\r\")\n",
    "        #print tn.read_all()\n",
    "        \n",
    "        \n",
    "        "
   ]
  },
  {
   "cell_type": "code",
   "execution_count": null,
   "metadata": {
    "collapsed": true
   },
   "outputs": [],
   "source": []
  }
 ],
 "metadata": {
  "kernelspec": {
   "display_name": "Python 2",
   "language": "python",
   "name": "python2"
  },
  "language_info": {
   "codemirror_mode": {
    "name": "ipython",
    "version": 2
   },
   "file_extension": ".py",
   "mimetype": "text/x-python",
   "name": "python",
   "nbconvert_exporter": "python",
   "pygments_lexer": "ipython2",
   "version": "2.7.13"
  }
 },
 "nbformat": 4,
 "nbformat_minor": 2
}
