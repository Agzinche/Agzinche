{
 "cells": [
  {
   "cell_type": "markdown",
   "metadata": {},
   "source": [
    "<b>Базовая часть <b/>"
   ]
  },
  {
   "cell_type": "code",
   "execution_count": 203,
   "metadata": {
    "collapsed": false
   },
   "outputs": [
    {
     "data": {
      "text/plain": [
       "True"
      ]
     },
     "execution_count": 203,
     "metadata": {},
     "output_type": "execute_result"
    }
   ],
   "source": [
    "reviews = [\"\"\"Телефон абонента: +7 916 000 00 01\n",
    "Время: 10:34\n",
    "Дата: 20.05.2017\n",
    "Оценка: 1\n",
    "Длительность разговора (мин.): 0:32\n",
    "Комментарий: Общение с сотрудником вашей техподдержки мне не понравилось. Раньше всегда отвечала девушка с приятным голосом, а сегодня какой-то мужчина. Совсем никуда не годится, примите меры!!!\"\"\",\n",
    "\"\"\"Телефон абонента: +7 916 000 00 02\n",
    "Время: 9:20\n",
    "Дата: 21.05.2017\n",
    "Оценка: 5\n",
    "Длительность разговора (мин.): 25:07\n",
    "Комментарий: С моей проблемой мне помогли, большое спасибо!\"\"\"]\n",
    "line = \";\".join(reviews)\n",
    "splitted_line = line.split(': ')\n",
    "field_numberClient = splitted_line[0]\n",
    "field_value_nunberClient = splitted_line[1] [0:17]\n",
    "Number1=splitted_line[1] [0:16]\n",
    "Number2=splitted_line[7] [0:16]\n",
    "Time1= splitted_line[1] [-10:]\n",
    "Time1_Value=splitted_line[2][0:5]\n",
    "Data1= splitted_line[2] [-8:]\n",
    "Data1_Value=splitted_line[3][0:10]\n",
    "Eval1=splitted_line[3] [-13:]\n",
    "Eval1_Value=splitted_line[4] [0:1]\n",
    "Long1=splitted_line[4] [-54:]\n",
    "Long1_Value=splitted_line[5] [0:4]\n",
    "Coment1=splitted_line[5] [-22:]\n",
    "Coment1_Value=splitted_line [6] [0:330]\n",
    "Time2= splitted_line[7] [-10]\n",
    "Time2_Value=splitted_line[8][0:5]\n",
    "Data2= splitted_line[8] [-8:]\n",
    "Data2_Value=splitted_line[9][0:10]\n",
    "Eval2=splitted_line[9] [-13:]\n",
    "Eval2_Value=splitted_line[10] [0:1]\n",
    "Long2=splitted_line[10] [-54:]\n",
    "Long2_Value=splitted_line[11] [0:4]\n",
    "Coment2=splitted_line[11] [-22:]\n",
    "Coment2_Value=splitted_line [12] [0:]\n",
    "#y = u'Время'.encode('utf-8')\n",
    "#print type(Coment2_Value)\n",
    "my_base={Number1 : {'Time'  :Time1_Value,'Data1' : Data1_Value, 'Eva':Eval1_Value,'Long':Long1_Value},\n",
    "         Number2:{'Time'  :Time2_Value,'Data' : Data2_Value, 'Eva':Eval2_Value,'Long':Long2_Value}} \n",
    "#print my_base\n",
    "my_base['+7 916 000 00 02']['Data'] == '21.05.2017'\n",
    "\n",
    "\n"
   ]
  },
  {
   "cell_type": "code",
   "execution_count": null,
   "metadata": {
    "collapsed": false
   },
   "outputs": [],
   "source": []
  },
  {
   "cell_type": "code",
   "execution_count": null,
   "metadata": {
    "collapsed": true
   },
   "outputs": [],
   "source": []
  },
  {
   "cell_type": "code",
   "execution_count": null,
   "metadata": {
    "collapsed": true
   },
   "outputs": [],
   "source": []
  }
 ],
 "metadata": {
  "kernelspec": {
   "display_name": "Python 2",
   "language": "python",
   "name": "python2"
  },
  "language_info": {
   "codemirror_mode": {
    "name": "ipython",
    "version": 2
   },
   "file_extension": ".py",
   "mimetype": "text/x-python",
   "name": "python",
   "nbconvert_exporter": "python",
   "pygments_lexer": "ipython2",
   "version": "2.7.13"
  }
 },
 "nbformat": 4,
 "nbformat_minor": 2
}
